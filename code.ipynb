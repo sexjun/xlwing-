{
    "cells": [
        {
            "cell_type": "markdown",
            "source": [
                "# 1. 安装 \r\n",
                "```python\r\n",
                "conda install xlwings\r\n",
                "pip install xlwings\r\n",
                "\r\n",
                "```"
            ],
            "metadata": {}
        },
        {
            "cell_type": "markdown",
            "source": [
                "# 2. 写入excel的基本操作\r\n",
                "pyton字串前面加上 `r` means raw string 原生字串，不需要转义"
            ],
            "metadata": {}
        },
        {
            "cell_type": "code",
            "execution_count": 55,
            "source": [
                "import xlwings as xw\r\n",
                "# 创建一个应用  visible : 操作的时候是否可视化，  add_book：打开excel是否新建excel表\r\n",
                "# visible and add_book default value all is true.\r\n",
                "app = xw.App(visible=True, add_book=False)\r\n",
                "# 工作簿\r\n",
                "workbook = app.books.add()\r\n",
                "# 工作表\r\n",
                "sheet = workbook.sheets['sheet1']\r\n",
                "# 写入数据\r\n",
                "sheet.range('A1').value = \"天天学习\"\r\n",
                "\r\n",
                "# 保存工作表\r\n",
                "workbook.save(r'./excel_sheet/cds_test2.xlsx')\r\n",
                "# 关闭工作表\r\n",
                "workbook.close()\r\n",
                "# 退出app\r\n",
                "app.quit()\r\n"
            ],
            "outputs": [],
            "metadata": {}
        },
        {
            "cell_type": "markdown",
            "source": [
                "# 3. 写入excel的常见操作"
            ],
            "metadata": {}
        },
        {
            "cell_type": "code",
            "execution_count": 56,
            "source": [
                "import xlwings as xw\r\n",
                "# 创建一个应用  visible : 操作的时候是否可视化，  add_book：打开excel是否新建excel表\r\n",
                "# visible and add_book default value all is true.\r\n",
                "app = xw.App(visible=True, add_book=False)\r\n",
                "# 工作簿\r\n",
                "workbook = app.books.add()\r\n",
                "# 工作表\r\n",
                "sheet = workbook.sheets['sheet1']\r\n",
                "# 指定单元格写入数据\r\n",
                "sheet.range('A1').value = \"天天学习\"\r\n"
            ],
            "outputs": [],
            "metadata": {}
        },
        {
            "cell_type": "code",
            "execution_count": 57,
            "source": [
                "# 指定单元格写入\r\n",
                "sheet.range(\"A2\").value = \"new value\""
            ],
            "outputs": [],
            "metadata": {}
        },
        {
            "cell_type": "code",
            "execution_count": 58,
            "source": [
                "# 直接写一行\r\n",
                "sheet.range(\"C4\").value = [1, 2, 3, 4, 5]\r\n",
                "# 等价与\r\n",
                "sheet.range(\"C5:G5\").value = [1, 2, 3, 4, 5]\r\n"
            ],
            "outputs": [],
            "metadata": {}
        },
        {
            "cell_type": "code",
            "execution_count": 59,
            "source": [
                "# 插入一列 transpose：翻转\r\n",
                "sheet.range(\"C5:C8\").options(transpose=True).value = [5, 6, 7]"
            ],
            "outputs": [],
            "metadata": {}
        },
        {
            "cell_type": "code",
            "execution_count": 60,
            "source": [
                "# 插入行列：写入二位数组\r\n",
                "sheet.range(\"C12\").value = [[1, 2], [3, 4]]"
            ],
            "outputs": [],
            "metadata": {}
        },
        {
            "cell_type": "code",
            "execution_count": 61,
            "source": [
                "# 保存\r\n",
                "workbook.save(r'./excel_sheet/demo3.xlsx')\r\n",
                "workbook.close()\r\n",
                "app.quit()"
            ],
            "outputs": [],
            "metadata": {}
        },
        {
            "cell_type": "markdown",
            "source": [
                "# 4. 读excel的基本操作"
            ],
            "metadata": {}
        },
        {
            "cell_type": "code",
            "execution_count": 65,
            "source": [
                "import xlwings as xw\r\n",
                "# 创建一个应用  visible : 操作的时候是否可视化，  add_book：打开excel是否新建excel表\r\n",
                "# visible and add_book default value all is true.\r\n",
                "app = xw.App(visible=True, add_book=False)\r\n",
                "# 工作簿\r\n",
                "workbook = app.books.open(r'./excel_sheet/demo3.xlsx')\r\n",
                "# 工作表\r\n",
                "sheet = workbook.sheets['sheet1']\r\n",
                "\r\n",
                "print(sheet.range(\"a2\").value)\r\n",
                "\r\n",
                "\r\n",
                "workbook.save()\r\n",
                "# 关闭工作表\r\n",
                "workbook.close()\r\n",
                "# 退出app\r\n",
                "app.quit()\r\n"
            ],
            "outputs": [
                {
                    "output_type": "stream",
                    "name": "stdout",
                    "text": [
                        "new value\n"
                    ]
                }
            ],
            "metadata": {}
        },
        {
            "cell_type": "markdown",
            "source": [
                "# 5. 读取excel的常用方式"
            ],
            "metadata": {}
        },
        {
            "cell_type": "code",
            "execution_count": 66,
            "source": [
                "import xlwings as xw\r\n",
                "# 创建一个应用  visible : 操作的时候是否可视化，  add_book：打开excel是否新建excel表\r\n",
                "# visible and add_book default value all is true.\r\n",
                "app = xw.App(visible=True, add_book=False)\r\n",
                "# 工作簿\r\n",
                "workbook = app.books.open(r'./excel_sheet/demo3.xlsx')\r\n",
                "# 工作表\r\n",
                "sheet = workbook.sheets['sheet1']"
            ],
            "outputs": [],
            "metadata": {}
        },
        {
            "cell_type": "code",
            "execution_count": 67,
            "source": [
                "# 读取某个位置的数值\r\n",
                "print(sheet.range(\"a2\").value)"
            ],
            "outputs": [
                {
                    "output_type": "stream",
                    "name": "stdout",
                    "text": [
                        "new value\n"
                    ]
                }
            ],
            "metadata": {}
        },
        {
            "cell_type": "code",
            "execution_count": 71,
            "source": [
                "# 读取某行\r\n",
                "print(sheet.range('c4:g4').value)"
            ],
            "outputs": [
                {
                    "output_type": "stream",
                    "name": "stdout",
                    "text": [
                        "[1.0, 2.0, 3.0, 4.0, 5.0]\n"
                    ]
                }
            ],
            "metadata": {}
        },
        {
            "cell_type": "code",
            "execution_count": 72,
            "source": [
                "# 读一列\r\n",
                "print(sheet.range('c4:c7').value)"
            ],
            "outputs": [
                {
                    "output_type": "stream",
                    "name": "stdout",
                    "text": [
                        "[1.0, 5.0, 6.0, 7.0]\n"
                    ]
                }
            ],
            "metadata": {}
        },
        {
            "cell_type": "code",
            "execution_count": 73,
            "source": [
                "# 读行列\r\n",
                "print(sheet.range('c4:g5').value)\r\n"
            ],
            "outputs": [
                {
                    "output_type": "stream",
                    "name": "stdout",
                    "text": [
                        "[[1.0, 2.0, 3.0, 4.0, 5.0], [5.0, 2.0, 3.0, 4.0, 5.0]]\n"
                    ]
                }
            ],
            "metadata": {}
        },
        {
            "cell_type": "code",
            "execution_count": 74,
            "source": [
                "# 保存\r\n",
                "workbook.save()\r\n",
                "# 关闭工作表\r\n",
                "workbook.close()\r\n",
                "# 退出app\r\n",
                "app.quit()"
            ],
            "outputs": [],
            "metadata": {}
        },
        {
            "cell_type": "markdown",
            "source": [
                "# 6. 读取excel的高级操作"
            ],
            "metadata": {}
        },
        {
            "cell_type": "code",
            "execution_count": 75,
            "source": [
                "import xlwings as xw\r\n",
                "# 创建一个应用  visible : 操作的时候是否可视化，  add_book：打开excel是否新建excel表\r\n",
                "# visible and add_book default value all is true.\r\n",
                "app = xw.App(visible=True, add_book=False)\r\n",
                "# 工作簿\r\n",
                "workbook = app.books.open(r'./excel_sheet/demo3.xlsx')\r\n",
                "# 工作表\r\n",
                "sheet = workbook.sheets['sheet1']"
            ],
            "outputs": [],
            "metadata": {}
        },
        {
            "cell_type": "code",
            "execution_count": 88,
            "source": [
                "# 读取一列\r\n",
                "print(sheet.range('a1').expand('down').value)\r\n",
                "\r\n",
                "# 读取一列\r\n",
                "print(sheet.range('b1').expand('down').value)\r\n",
                "\r\n",
                "# 读取一列\r\n",
                "print(sheet.range('c1').expand('down').value)\r\n",
                "\r\n",
                "# 读取所有关联的\r\n",
                "print(sheet.range('c4').expand('table').value)\r\n",
                "\r\n",
                "# 读取所有关联的\r\n",
                "print(sheet.range('A1').options(expand='table').value)"
            ],
            "outputs": [
                {
                    "output_type": "stream",
                    "name": "stdout",
                    "text": [
                        "['天天学习', 'new value']\n",
                        "None\n",
                        "None\n",
                        "[[1.0, 2.0, 3.0, 4.0, 5.0], [5.0, 2.0, 3.0, 4.0, 5.0], [6.0, None, None, None, None], [7.0, None, None, None, None]]\n",
                        "['天天学习', 'new value']\n"
                    ]
                }
            ],
            "metadata": {}
        }
    ],
    "metadata": {
        "orig_nbformat": 4,
        "language_info": {
            "name": "python",
            "version": "3.9.6",
            "mimetype": "text/x-python",
            "codemirror_mode": {
                "name": "ipython",
                "version": 3
            },
            "pygments_lexer": "ipython3",
            "nbconvert_exporter": "python",
            "file_extension": ".py"
        },
        "kernelspec": {
            "name": "python3",
            "display_name": "Python 3.9.6 64-bit ('excel': conda)"
        },
        "interpreter": {
            "hash": "de353eff94b9457125bbcc6c2ae9f3c9a3b5e8fdbda265c80786057f33234172"
        }
    },
    "nbformat": 4,
    "nbformat_minor": 2
}